{
 "cells": [
  {
   "attachments": {},
   "cell_type": "markdown",
   "metadata": {},
   "source": [
    "<b>Lab 01: Numpy</b></br>\n",
    "MSSV: 20127030.</br>\n",
    "Họ và tên: Nguyễn Mạnh Hùng."
   ]
  },
  {
   "attachments": {},
   "cell_type": "markdown",
   "metadata": {},
   "source": [
    "Bài lab này được cài đặt trên jupyter notbook với phiên bản conda python 3.9.15 và phiên bản numpy là 1.21.5"
   ]
  },
  {
   "cell_type": "code",
   "execution_count": 1,
   "metadata": {},
   "outputs": [
    {
     "data": {
      "text/plain": [
       "'1.21.5'"
      ]
     },
     "execution_count": 1,
     "metadata": {},
     "output_type": "execute_result"
    }
   ],
   "source": [
    "import numpy as np\n",
    "np.__version__"
   ]
  },
  {
   "attachments": {},
   "cell_type": "markdown",
   "metadata": {},
   "source": [
    "Ở bài lab này, mình đã cài đặt toàn bộ các phần sau:</br>\n",
    "<ul>\n",
    "  <li>Mean, Median, Max, Min, Range - Hoàn thành:100% </li>\n",
    "  <li>Variance, Standard Deviation - Hoàn thành:100% </li>\n",
    "  <li>Correlation matrix, Covariance matrix - Hoàn thành:100% </li>\n",
    "  <li>Bonus: Handle with NaN - Hoàn thành:100% </li>\n",
    "</ul>\n",
    "<b><i>Lưu ý: tất cả các hàm đều được cài tay và so sánh kết quả với hàm có sẵn trong thư viên numpy và toàn bộ các mảng 2 chiều thể hiện biểu thức đa biến với mỗi biến được biểu diễn theo vector cột tương ứng </i></b>"
   ]
  },
  {
   "attachments": {},
   "cell_type": "markdown",
   "metadata": {},
   "source": [
    "<i><b>Chú thích: các biến tham số truyền vào hàm như sau:</b></i></br>\n",
    "arr: tham số truyền vào là mảng, có thể là 1-D hay 2-D.</br>\n",
    "col: tham số truyền vào là cột, vì ở đây các biến trong mảng đa biến đều được biểu diễn theo vector cột</br>\n",
    "axis = 0: tham số truyền vào để tính các hàm trong hàm thư viện, tính các biến theo ma vector cột.</br>\n",
    "Ngoài ra, trường hợp axis = 1 dùng để tính toán giá trị tương ứng với hàm truyền vào theo ma trận vector dòng. Nhưng do đề bài ta chỉ thiết lập các biến theo ma trận cột nên ta chỉ cần truyền tham số axis = 0.</br>"
   ]
  },
  {
   "cell_type": "code",
   "execution_count": 2,
   "metadata": {},
   "outputs": [],
   "source": [
    "# tạo ra 2 sample để test các hàm.\n",
    "               #X1 #X2 => cột một là biểu diễn X1, cột 2 là biểu diễn cho X2\n",
    "A1 = np.array([[42, 4], \n",
    "               [52, 5], \n",
    "               [48, 4], \n",
    "               [58, 3]])\n",
    "A2 = np.array([2, 10, 20, 9, 35, 48, 108, 69, 57])\n",
    "# khi gặp các giá trị nan trong mảng thì thay giá trị đó = 0"
   ]
  },
  {
   "attachments": {},
   "cell_type": "markdown",
   "metadata": {},
   "source": [
    "# Sample Mean"
   ]
  },
  {
   "attachments": {},
   "cell_type": "markdown",
   "metadata": {},
   "source": [
    "Ta lần lượt cài đặt hàm tính trung bình các giá trị cho các mảng một chiều và 2 chiều.</br>\n",
    "Ý tưởng: mean = (x1+x2+...+xn)/n "
   ]
  },
  {
   "cell_type": "code",
   "execution_count": 3,
   "metadata": {},
   "outputs": [],
   "source": [
    "# sample mean for 1-D array (parameter: an 1-D array)\n",
    "def sample_mean(arr):\n",
    "    result = arr.sum()/len(arr)\n",
    "    return result"
   ]
  },
  {
   "cell_type": "code",
   "execution_count": 4,
   "metadata": {},
   "outputs": [],
   "source": [
    "# sample mean for 2-D array with specific axis (parameter: column value, 2-D array)\n",
    "def sample_mean_2D(arr, col):\n",
    "    result = np.array(arr[:,col])\n",
    "    mean = sample_mean(result)\n",
    "    return mean"
   ]
  },
  {
   "attachments": {},
   "cell_type": "markdown",
   "metadata": {},
   "source": [
    "Thực hiện tính toán các hàm đã cài đặt"
   ]
  },
  {
   "cell_type": "code",
   "execution_count": 5,
   "metadata": {},
   "outputs": [],
   "source": [
    "mean_A2 = sample_mean(A2)\n",
    "mean_A1_col1 = sample_mean_2D(A1,0) # tính mean cho biến đầu tiên\n",
    "mean_A1_col2 = sample_mean_2D(A1,1) # tính mean cho biến thứ 2"
   ]
  },
  {
   "attachments": {},
   "cell_type": "markdown",
   "metadata": {},
   "source": [
    "dùng hàm thư viện để đối chứng so sánh với hàm thủ công"
   ]
  },
  {
   "cell_type": "code",
   "execution_count": 6,
   "metadata": {},
   "outputs": [],
   "source": [
    "m_A2 = np.mean(A2)\n",
    "m_A1 = np.mean(A1,axis=0) # set axis = 0 để tính mean theo cột vì các biến được quy định là biểu diễn theo cột"
   ]
  },
  {
   "attachments": {},
   "cell_type": "markdown",
   "metadata": {},
   "source": [
    "<b> So sánh đối chiếu kết quả</b></br>\n",
    "Ta lần lượt in 2 cột kết quả với cột đầu tiên là kết quả thủ công và cột thứ 2 là kết quả của hàm thư viện"
   ]
  },
  {
   "cell_type": "code",
   "execution_count": 7,
   "metadata": {},
   "outputs": [
    {
     "name": "stdout",
     "output_type": "stream",
     "text": [
      "Kết quả thủ công và Kết quả gọi hàm\n",
      "Mean A2:  39.77777777777778 39.77777777777778\n",
      "Mean A1 của biến 1:  50.0 50.0\n",
      "Mean A1 của biến 2:  4.0 4.0\n"
     ]
    }
   ],
   "source": [
    "print('Kết quả thủ công và Kết quả gọi hàm')\n",
    "print('Mean A2: ', mean_A2, m_A2)\n",
    "print('Mean A1 của biến 1: ', mean_A1_col1, m_A1[0])\n",
    "print('Mean A1 của biến 2: ', mean_A1_col2, m_A1[1])"
   ]
  },
  {
   "attachments": {},
   "cell_type": "markdown",
   "metadata": {},
   "source": [
    "Như vậy, ta có thể thấy là các hàm cài đặt thủ công đã tính đúng so với hàm thư viện."
   ]
  },
  {
   "attachments": {},
   "cell_type": "markdown",
   "metadata": {},
   "source": [
    "# Mean Vector"
   ]
  },
  {
   "attachments": {},
   "cell_type": "markdown",
   "metadata": {},
   "source": [
    "Kế đến ta sẽ tính tiếp mean vector của các ma trận đã nêu ở trên."
   ]
  },
  {
   "cell_type": "code",
   "execution_count": 8,
   "metadata": {},
   "outputs": [],
   "source": [
    "# cài đặt hàm tính mean vector\n",
    "def create_MeanVec(arr):\n",
    "    size = len(arr[0])\n",
    "    mean_vec = [0.0 for i in range(size)]\n",
    "    for i in range (size):\n",
    "        mean_vec[i] = sample_mean_2D(arr, col = i)\n",
    "    return np.array(mean_vec)"
   ]
  },
  {
   "attachments": {},
   "cell_type": "markdown",
   "metadata": {},
   "source": [
    "Ta thực hiện tính mean vector đối với A1 sau đó đối chiếu với hàm thư viện.</br>\n",
    "<b>Note:</b> khi gọi hàm np.mean(arr,axis=0) thì kết quả trả về là mean vector với các giá trị mean lần lượt của các biến có trong arr.</br> Cụ thể mean_vect of arr = [mean(X1)| mean(X2)|...| mean(Xn)] với X1, X2,..., Xn là các vector cột của các biến có trong arr "
   ]
  },
  {
   "cell_type": "code",
   "execution_count": 9,
   "metadata": {},
   "outputs": [
    {
     "name": "stdout",
     "output_type": "stream",
     "text": [
      "So sánh: mean_vector và m_A1\n",
      "Mean vector (mean_vector)\n",
      "[50.  4.]\n",
      "hàm thư viện (m_A1)\n",
      "[50.  4.]\n"
     ]
    }
   ],
   "source": [
    "mean_vector = create_MeanVec(A1)\n",
    "print('So sánh: mean_vector và m_A1')\n",
    "print('Mean vector (mean_vector)')\n",
    "print(mean_vector)\n",
    "print('hàm thư viện (m_A1)')\n",
    "print(m_A1)"
   ]
  },
  {
   "attachments": {},
   "cell_type": "markdown",
   "metadata": {},
   "source": [
    "<b> Như vậy ta có thể thấy được hàm thủ công và hàm thư viện đều cho ra các kết quả giống nhau </b>"
   ]
  },
  {
   "attachments": {},
   "cell_type": "markdown",
   "metadata": {},
   "source": [
    "# Sample Median"
   ]
  },
  {
   "attachments": {},
   "cell_type": "markdown",
   "metadata": {},
   "source": [
    "cài hàm thủ công tính median</br>\n",
    "Ý tưởng: ta sắp xếp mảng theo thứ tự tăng dần và sau đó lấy giá trị trung tâm nếu số lượng ptu là lẻ, trường hợp số lượng là chẵn thì ta sẽ lấy trung bình 2 phần tử trung tâm mảng "
   ]
  },
  {
   "cell_type": "code",
   "execution_count": 10,
   "metadata": {},
   "outputs": [],
   "source": [
    "def median(arr):\n",
    "    a = np.sort(arr)\n",
    "    middle = int(len(a)/2)\n",
    "    if (len(a)%2 == 1):\n",
    "        return a[middle]\n",
    "    else :\n",
    "        return (a[middle-1] + a[middle]) / 2"
   ]
  },
  {
   "attachments": {},
   "cell_type": "markdown",
   "metadata": {},
   "source": [
    "Hàm tính median cho 1 biến cụ thể (vector cột)"
   ]
  },
  {
   "cell_type": "code",
   "execution_count": 11,
   "metadata": {},
   "outputs": [],
   "source": [
    "def median_2D(arr, col):\n",
    "    val = np.array(arr[:,col])\n",
    "    result = median(val)\n",
    "    return result"
   ]
  },
  {
   "attachments": {},
   "cell_type": "markdown",
   "metadata": {},
   "source": [
    "Tính các phép tính trên hàm thủ công và so sánh với hàm thư viện\n"
   ]
  },
  {
   "cell_type": "code",
   "execution_count": 12,
   "metadata": {},
   "outputs": [
    {
     "name": "stdout",
     "output_type": "stream",
     "text": [
      "[  2   9  10  20  35  48  57  69 108]\n",
      "Kết quả hàm thủ công: 35\n",
      "Kết quả hàm thư viện: 35.0\n"
     ]
    }
   ],
   "source": [
    "A2_med = median(A2)\n",
    "median_A2 = np.median(A2)\n",
    "value = np.sort(A2)\n",
    "print(value)\n",
    "print('Kết quả hàm thủ công:', A2_med)\n",
    "print('Kết quả hàm thư viện:', median_A2)"
   ]
  },
  {
   "cell_type": "code",
   "execution_count": 13,
   "metadata": {},
   "outputs": [
    {
     "name": "stdout",
     "output_type": "stream",
     "text": [
      "[42 48 52 58]\n",
      "Kết quả hàm thủ công: 50.0\n",
      "Kết quả hàm thư viện: 50.0\n"
     ]
    }
   ],
   "source": [
    "A1_med = median_2D(A1, 0)\n",
    "median_A1 = np.median(A1, axis = 0) # tính median theo cột\n",
    "value = np.sort(A1[:,0])\n",
    "print(value)\n",
    "print('Kết quả hàm thủ công:',A1_med)\n",
    "print('Kết quả hàm thư viện:',median_A1[0])"
   ]
  },
  {
   "attachments": {},
   "cell_type": "markdown",
   "metadata": {},
   "source": [
    "Ta thấy, hàm thủ công đã trả về kết quả lần lượt là 35 đối với A2 và 50 đối với A1 - lúc xét trên cột 1, biến X1</br>\n",
    "Các giá trị trong mảng sẽ được sắp xếp theo giá trị tăng dần.</br>\n",
    "<i>Ngoài ra, khi dùng hàm thư viện np.median(arr, axis = 0), kết quả trả về sẽ là một vector median của các biến có trong mảng.</i>"
   ]
  },
  {
   "attachments": {},
   "cell_type": "markdown",
   "metadata": {},
   "source": [
    "# Median vector"
   ]
  },
  {
   "attachments": {},
   "cell_type": "markdown",
   "metadata": {},
   "source": [
    "Kế đến ta sẽ tính vector median của A1"
   ]
  },
  {
   "cell_type": "code",
   "execution_count": 14,
   "metadata": {},
   "outputs": [],
   "source": [
    "def create_MedianVec(arr): # hàm thủ công\n",
    "    size = len(arr[0])\n",
    "    median_vec = [0.0 for i in range(size)]\n",
    "    for i in range (size):\n",
    "        median_vec[i] = median_2D(arr, col = i)\n",
    "    return np.array(median_vec)"
   ]
  },
  {
   "attachments": {},
   "cell_type": "markdown",
   "metadata": {},
   "source": [
    "Ta thực hiện tính median vector đối với A1 sau đó đối chiếu với hàm thư viện.</br>\n",
    "<b>Note:</b> khi gọi hàm np.median(arr,axis=0) thì kết quả trả về là median vector với các giá trị median lần lượt của các biến có trong arr.</br> Cụ thể median_vect of arr = [median(X1)| median(X2)| ... | median(Xn)] với X1, X2,..., Xn là các vector cột của các biến có trong arr "
   ]
  },
  {
   "cell_type": "code",
   "execution_count": 15,
   "metadata": {},
   "outputs": [
    {
     "name": "stdout",
     "output_type": "stream",
     "text": [
      "So sánh: median_vector và median_A1\n",
      "Mean vector (median_vector)\n",
      "[50.  4.]\n",
      "hàm thư viện (median_A1)\n",
      "[50.  4.]\n"
     ]
    }
   ],
   "source": [
    "median_vector = create_MedianVec(A1)\n",
    "print('So sánh: median_vector và median_A1')\n",
    "print('Mean vector (median_vector)')\n",
    "print(median_vector)\n",
    "print('hàm thư viện (median_A1)')\n",
    "print(median_A1)"
   ]
  },
  {
   "attachments": {},
   "cell_type": "markdown",
   "metadata": {},
   "source": [
    "<b> Kết luận: 2 hàm đều cho ra kết quả giống nhau</b>"
   ]
  },
  {
   "attachments": {},
   "cell_type": "markdown",
   "metadata": {},
   "source": [
    "# Max và Min"
   ]
  },
  {
   "attachments": {},
   "cell_type": "markdown",
   "metadata": {},
   "source": [
    "Tại đây, ta sẽ tính các giá trị maximum và giá trị minimum của từng biến."
   ]
  },
  {
   "attachments": {},
   "cell_type": "markdown",
   "metadata": {},
   "source": [
    "Cài đặt thủ công hàm max và hàm min"
   ]
  },
  {
   "cell_type": "code",
   "execution_count": 16,
   "metadata": {},
   "outputs": [],
   "source": [
    "def Max(arr): # hàm max với tham số truyền vào là mảng\n",
    "    result = -np.inf\n",
    "    for i in range (len(arr)):\n",
    "        if arr[i] > result:\n",
    "            result = arr[i]\n",
    "    return result"
   ]
  },
  {
   "cell_type": "code",
   "execution_count": 17,
   "metadata": {},
   "outputs": [],
   "source": [
    "def Min(arr): # hàm min với tham số truyền vào là mảng\n",
    "    result = np.inf\n",
    "    for i in range (len(arr)):\n",
    "        if arr[i] < result:\n",
    "            result = arr[i]\n",
    "    return result"
   ]
  },
  {
   "attachments": {},
   "cell_type": "markdown",
   "metadata": {},
   "source": [
    "Tính toán và so sánh với hàm thư viện"
   ]
  },
  {
   "cell_type": "code",
   "execution_count": 18,
   "metadata": {},
   "outputs": [],
   "source": [
    "A2_max = Max(A2)\n",
    "A2_min = Min(A2)\n",
    "min = np.min(A2) # hàm thư viện\n",
    "max = np.max(A2) # hàm thư viện"
   ]
  },
  {
   "cell_type": "code",
   "execution_count": 19,
   "metadata": {},
   "outputs": [
    {
     "name": "stdout",
     "output_type": "stream",
     "text": [
      "So sánh kết quả giữa 2 hàm trong A2\n",
      "Min:  2 2\n",
      "Max:  108 108\n"
     ]
    }
   ],
   "source": [
    "print('So sánh kết quả giữa 2 hàm trong A2')\n",
    "print('Min: ', A2_min, min)\n",
    "print('Max: ', A2_max, max)"
   ]
  },
  {
   "attachments": {},
   "cell_type": "markdown",
   "metadata": {},
   "source": [
    "<b> Qua trên, ta thấy các giá trị giữa các hàm thủ công và thư viện đều cho các kết quả giống nhau."
   ]
  },
  {
   "attachments": {},
   "cell_type": "markdown",
   "metadata": {},
   "source": [
    "Tìm giá trị min max của mỗi biến trong mảng đa biến A1"
   ]
  },
  {
   "cell_type": "code",
   "execution_count": 20,
   "metadata": {},
   "outputs": [],
   "source": [
    "def multi_Max(arr, col):\n",
    "    val = np.array(arr[:,col])\n",
    "    result = Max(val)\n",
    "    return result"
   ]
  },
  {
   "cell_type": "code",
   "execution_count": 21,
   "metadata": {},
   "outputs": [],
   "source": [
    "def multi_Min(arr, col):\n",
    "    val = np.array(arr[:,col])\n",
    "    result = Min(val)\n",
    "    return result"
   ]
  },
  {
   "attachments": {},
   "cell_type": "markdown",
   "metadata": {},
   "source": [
    "Tính toán và so sánh kết quả đối chứng"
   ]
  },
  {
   "cell_type": "code",
   "execution_count": 22,
   "metadata": {},
   "outputs": [],
   "source": [
    "A1_min = np.array([multi_Min(A1,0), multi_Min(A1,1)])\n",
    "A1_max = np.array([multi_Max(A1,0), multi_Max(A1,1)])\n",
    "max_A1 = np.max(A1,axis=0) # hàm thư viện\n",
    "min_A1 = np.min(A1,axis=0) # hàm thư viện"
   ]
  },
  {
   "cell_type": "code",
   "execution_count": 23,
   "metadata": {},
   "outputs": [
    {
     "name": "stdout",
     "output_type": "stream",
     "text": [
      "So sánh kết quả giữa 2 hàm trong A1\n",
      "Min:  [42  3] [42  3]\n",
      "Max:  [58  5] [58  5]\n"
     ]
    }
   ],
   "source": [
    "print('So sánh kết quả giữa 2 hàm trong A1')\n",
    "print('Min: ', A1_min, min_A1)\n",
    "print('Max: ', A1_max, max_A1)"
   ]
  },
  {
   "attachments": {},
   "cell_type": "markdown",
   "metadata": {},
   "source": [
    "Kết quả trình bày theo dạng</br>\n",
    "Min: Min của x1,x2(hàm thủ công) Min của x1,x2(hàm thư viện)</br>\n",
    "Max: Max của x1,x2(hàm thủ công) Max của x1,x2(hàm thư viện)"
   ]
  },
  {
   "attachments": {},
   "cell_type": "markdown",
   "metadata": {},
   "source": [
    "<b> Kết luận: hàm thủ công và thư viện đều cho ra cùng 1 kết quả</b>"
   ]
  },
  {
   "attachments": {},
   "cell_type": "markdown",
   "metadata": {},
   "source": [
    "# Range"
   ]
  },
  {
   "attachments": {},
   "cell_type": "markdown",
   "metadata": {},
   "source": [
    "Ý tưởng: ta lấy giá trị Max - giá trị Min tương ứng với từng dòng đối với đa biến. Riêng trường hợp đơn biến chỉ lấy Max - Min"
   ]
  },
  {
   "attachments": {},
   "cell_type": "markdown",
   "metadata": {},
   "source": [
    "Cài đặt hàm thủ công."
   ]
  },
  {
   "cell_type": "code",
   "execution_count": 24,
   "metadata": {},
   "outputs": [],
   "source": [
    "def Range(arr):\n",
    "    val = Max(arr) - Min(arr)\n",
    "    return val"
   ]
  },
  {
   "attachments": {},
   "cell_type": "markdown",
   "metadata": {},
   "source": [
    "Cài đặt tính range cho trường hợp đa biến."
   ]
  },
  {
   "cell_type": "code",
   "execution_count": 25,
   "metadata": {},
   "outputs": [],
   "source": [
    "def Range_2D(arr,col):\n",
    "    a = arr[:,col]\n",
    "    val = Max(a) - Min(a)\n",
    "    return val"
   ]
  },
  {
   "attachments": {},
   "cell_type": "markdown",
   "metadata": {},
   "source": [
    "Chạy và đối xứng giá trị"
   ]
  },
  {
   "cell_type": "code",
   "execution_count": 26,
   "metadata": {},
   "outputs": [
    {
     "name": "stdout",
     "output_type": "stream",
     "text": [
      "Hàm thư viện\n",
      "Vùng của X1 =  16\n",
      "Vùng của X2 =  2\n",
      "Hàm thủ công\n",
      "Vùng của X1 =  16\n",
      "Vùng của X2 =  2\n"
     ]
    }
   ],
   "source": [
    "print('Hàm thư viện')\n",
    "value = np.ptp(A1, axis=0) # value này trả về mảng giá trị tương ứng với [range(X1), range(X2)]\n",
    "print(\"Vùng của X1 = \", value[0])\n",
    "print(\"Vùng của X2 = \", value[1])\n",
    "print('Hàm thủ công')\n",
    "print(\"Vùng của X1 = \", Range_2D(A1,0))\n",
    "print(\"Vùng của X2 = \", Range_2D(A1,1))"
   ]
  },
  {
   "attachments": {},
   "cell_type": "markdown",
   "metadata": {},
   "source": [
    "<b> Kết luận: 2 hàm đều cho kết quả như nhau</b>"
   ]
  },
  {
   "attachments": {},
   "cell_type": "markdown",
   "metadata": {},
   "source": [
    "# Variance\n"
   ]
  },
  {
   "attachments": {},
   "cell_type": "markdown",
   "metadata": {},
   "source": [
    "Cài đặt hàm thủ công tính phương sai variance</br>\n",
    "Ý tưởng: tính theo công thức (1/n)*(sum((xi - mean of x)^2)), với i = 1,...,n"
   ]
  },
  {
   "attachments": {},
   "cell_type": "markdown",
   "metadata": {},
   "source": [
    "Hàm tính variance đơn biến"
   ]
  },
  {
   "cell_type": "code",
   "execution_count": 27,
   "metadata": {},
   "outputs": [],
   "source": [
    "def Variance_1D(arr):\n",
    "    sum = np.float32(0)\n",
    "    mean_val = sample_mean(arr)\n",
    "    for i in range(len(arr)):\n",
    "        sum += (arr[i] - mean_val)**2\n",
    "    sum /= len(arr)\n",
    "    return sum"
   ]
  },
  {
   "attachments": {},
   "cell_type": "markdown",
   "metadata": {},
   "source": [
    "Hàm tính Variance đa biến"
   ]
  },
  {
   "cell_type": "code",
   "execution_count": 28,
   "metadata": {},
   "outputs": [],
   "source": [
    "def Variance(arr, col):\n",
    "    var = arr[:, col]\n",
    "    sum = Variance_1D(var)\n",
    "    return sum"
   ]
  },
  {
   "attachments": {},
   "cell_type": "markdown",
   "metadata": {},
   "source": [
    "Thực nghiệm và so sánh"
   ]
  },
  {
   "attachments": {},
   "cell_type": "markdown",
   "metadata": {},
   "source": [
    "Đơn biến"
   ]
  },
  {
   "cell_type": "code",
   "execution_count": 29,
   "metadata": {},
   "outputs": [],
   "source": [
    "A2_var = Variance_1D(A2) # hàm tự cài\n",
    "var_A2 = np.var(A2) # hàm thư viện"
   ]
  },
  {
   "cell_type": "code",
   "execution_count": 30,
   "metadata": {},
   "outputs": [
    {
     "name": "stdout",
     "output_type": "stream",
     "text": [
      "Phương sai của đơn biến A2:  1060.8395061728397 1060.8395061728397\n"
     ]
    }
   ],
   "source": [
    "print('Phương sai của đơn biến A2: ', A2_var, var_A2)"
   ]
  },
  {
   "attachments": {},
   "cell_type": "markdown",
   "metadata": {},
   "source": [
    "Đa biến"
   ]
  },
  {
   "cell_type": "code",
   "execution_count": 31,
   "metadata": {},
   "outputs": [],
   "source": [
    "A1_var = np.array([Variance(A1,0), Variance(A1,1)]) # hàm tự cài\n",
    "var_A1 = np.var(A1,axis = 0) # hàm thư viện"
   ]
  },
  {
   "cell_type": "code",
   "execution_count": 32,
   "metadata": {},
   "outputs": [
    {
     "name": "stdout",
     "output_type": "stream",
     "text": [
      "Phương sai của đa biến A1 theo format [var(X1), var(X2)]:  [34.   0.5] [34.   0.5]\n"
     ]
    }
   ],
   "source": [
    "print('Phương sai của đa biến A1 theo format [var(X1), var(X2)]: ', A1_var, var_A1)"
   ]
  },
  {
   "attachments": {},
   "cell_type": "markdown",
   "metadata": {},
   "source": [
    "<b> Kết luận: như vậy các hàm tự cài và hàm thư viện đều cho ra 2 kết quả giống nhau</b>"
   ]
  },
  {
   "attachments": {},
   "cell_type": "markdown",
   "metadata": {},
   "source": [
    "# Standard Deviation"
   ]
  },
  {
   "attachments": {},
   "cell_type": "markdown",
   "metadata": {},
   "source": [
    "Cài đặt hàm tính độ lệch chuẩn thủ công</br>\n",
    "Ý tưởng: lấy căn bậc 2 của variance"
   ]
  },
  {
   "attachments": {},
   "cell_type": "markdown",
   "metadata": {},
   "source": [
    "Độ lệch chuẩn đơn biến"
   ]
  },
  {
   "cell_type": "code",
   "execution_count": 33,
   "metadata": {},
   "outputs": [],
   "source": [
    "def STD(arr):\n",
    "    value = Variance_1D(arr)\n",
    "    return value**0.5"
   ]
  },
  {
   "attachments": {},
   "cell_type": "markdown",
   "metadata": {},
   "source": [
    "Độ lệch chuẩn đa biến"
   ]
  },
  {
   "cell_type": "code",
   "execution_count": 34,
   "metadata": {},
   "outputs": [],
   "source": [
    "def STD_2D(arr, col):\n",
    "    value = Variance(arr, col)\n",
    "    return value**0.5"
   ]
  },
  {
   "attachments": {},
   "cell_type": "markdown",
   "metadata": {},
   "source": [
    "Kiểm nghiệm và so sánh kết quả với hàm thư viện"
   ]
  },
  {
   "attachments": {},
   "cell_type": "markdown",
   "metadata": {},
   "source": [
    "Đơn biến"
   ]
  },
  {
   "cell_type": "code",
   "execution_count": 35,
   "metadata": {},
   "outputs": [],
   "source": [
    "A2_std = STD(A2) # hàm tự cài\n",
    "standard_A2 = np.std(A2) # hàm thư viện"
   ]
  },
  {
   "cell_type": "code",
   "execution_count": 36,
   "metadata": {},
   "outputs": [
    {
     "name": "stdout",
     "output_type": "stream",
     "text": [
      "Độ lệch chuẩn của đơn biến A2:  32.57053125407751 32.57053125407751\n"
     ]
    }
   ],
   "source": [
    "print('Độ lệch chuẩn của đơn biến A2: ', A2_std, standard_A2)"
   ]
  },
  {
   "attachments": {},
   "cell_type": "markdown",
   "metadata": {},
   "source": [
    "Đa biến"
   ]
  },
  {
   "cell_type": "code",
   "execution_count": 37,
   "metadata": {},
   "outputs": [],
   "source": [
    "A1_std = np.array([STD_2D(A1, 0), STD_2D(A1, 1)]) # hàm tự cài\n",
    "standard_A1 = np.std(A1, axis=0) # hàm thư viện"
   ]
  },
  {
   "cell_type": "code",
   "execution_count": 38,
   "metadata": {},
   "outputs": [
    {
     "name": "stdout",
     "output_type": "stream",
     "text": [
      "Độ lệch chuẩn của đa biến A1 theo format [var(X1), var(X2)]:  [5.83095189 0.70710678] [5.83095189 0.70710678]\n"
     ]
    }
   ],
   "source": [
    "print('Độ lệch chuẩn của đa biến A1 theo format [var(X1), var(X2)]: ', A1_std, standard_A1)"
   ]
  },
  {
   "attachments": {},
   "cell_type": "markdown",
   "metadata": {},
   "source": [
    "<i>Kết luận: Các hàm thủ công đối với đơn biến và đa biến đều cho ra các kết quả giống nhau"
   ]
  },
  {
   "attachments": {},
   "cell_type": "markdown",
   "metadata": {},
   "source": [
    "# Covariance matrix"
   ]
  },
  {
   "attachments": {},
   "cell_type": "markdown",
   "metadata": {},
   "source": [
    "Tính ma trận covariance của dữ liệu đa biến.</br>\n",
    "Ý tưởng: Sij = (1/n).sum[(xji - mean(xi)).(xjk - mean(xk))], với i,k = 1,2,...,p và Sij = Sji"
   ]
  },
  {
   "attachments": {},
   "cell_type": "markdown",
   "metadata": {},
   "source": [
    "hàm tính Covariance"
   ]
  },
  {
   "cell_type": "code",
   "execution_count": 39,
   "metadata": {},
   "outputs": [],
   "source": [
    "def Covariance(arr, i, k):\n",
    "    length = len(arr)\n",
    "    sum = np.float32(0)\n",
    "    mean_vector = np.mean(arr, axis=0)\n",
    "\n",
    "    for j in range(length):\n",
    "        sum += (arr[j][i] - mean_vector[i]) * (arr[j][k] - mean_vector[k])\n",
    "\n",
    "    return sum / length"
   ]
  },
  {
   "attachments": {},
   "cell_type": "markdown",
   "metadata": {},
   "source": [
    "Hàm tạo ma trận Covariance"
   ]
  },
  {
   "cell_type": "code",
   "execution_count": 40,
   "metadata": {},
   "outputs": [],
   "source": [
    "def createCovMatrix(arr):\n",
    "    size = len(arr[0])\n",
    "    cov_matrix = np.zeros((size, size))\n",
    "    for i in range(size):\n",
    "        for j in range(size):\n",
    "            if cov_matrix[i][j] == 0:\n",
    "                if i != j:\n",
    "                    cov_matrix[i][j] = cov_matrix[j][i] = Covariance(arr, i, j)\n",
    "                else:\n",
    "                    cov_matrix[i][j] = Covariance(arr, i, j)\n",
    "    return cov_matrix"
   ]
  },
  {
   "attachments": {},
   "cell_type": "markdown",
   "metadata": {},
   "source": [
    "Tính toán và so sánh, set rowvar = False để cho hàm thư viện hiểu là ma trận có biến biểu diễn dạng cột."
   ]
  },
  {
   "cell_type": "code",
   "execution_count": 41,
   "metadata": {},
   "outputs": [],
   "source": [
    "A1_cov = createCovMatrix(A1) # hàm thủ công\n",
    "cov_A1 = np.cov(A1, rowvar=False, bias=True) # hàm thư viện"
   ]
  },
  {
   "cell_type": "code",
   "execution_count": 42,
   "metadata": {},
   "outputs": [
    {
     "name": "stdout",
     "output_type": "stream",
     "text": [
      "Ma trận hiệp phương sai của hàm thủ công\n",
      "[[34.  -1.5]\n",
      " [-1.5  0.5]]\n",
      "Ma trận hiệp phương sai của hàm thư viện\n",
      "[[34.  -1.5]\n",
      " [-1.5  0.5]]\n"
     ]
    }
   ],
   "source": [
    "print('Ma trận hiệp phương sai của hàm thủ công')\n",
    "print(A1_cov)\n",
    "print('Ma trận hiệp phương sai của hàm thư viện')\n",
    "print(cov_A1)"
   ]
  },
  {
   "attachments": {},
   "cell_type": "markdown",
   "metadata": {},
   "source": [
    "<b> Kết luận: 2 hàm đều cho ra kết quả giống nhau và ma trận này có các giá trị trên đường chéo chính bằng với phương sai tương ứng của mỗi biến</b>"
   ]
  },
  {
   "attachments": {},
   "cell_type": "markdown",
   "metadata": {},
   "source": [
    "# Correlation matrix"
   ]
  },
  {
   "attachments": {},
   "cell_type": "markdown",
   "metadata": {},
   "source": [
    "Ý tưởng: rik = Sik / ((Sii^0.5)*(Skk^0.5)), với i,k = 1,2,...,p và Sik, Sii, Skk là hệ số hiệp phương sai covariance.</br>\n",
    "Tính chất: rik = rki"
   ]
  },
  {
   "attachments": {},
   "cell_type": "markdown",
   "metadata": {},
   "source": [
    "Cài đặt hàm thủ công tính toán hệ số tương quan. Set rowvar = False để cho hàm thư viện hiểu là ma trận có biến biểu diễn dạng cột"
   ]
  },
  {
   "cell_type": "code",
   "execution_count": 43,
   "metadata": {},
   "outputs": [],
   "source": [
    "def Correlation_coefficient(Sik, Sii, Skk):\n",
    "    return Sik/((Sii**0.5)*(Skk**0.5))"
   ]
  },
  {
   "attachments": {},
   "cell_type": "markdown",
   "metadata": {},
   "source": [
    "Cài đặt hàm tính ma trận correlation"
   ]
  },
  {
   "cell_type": "code",
   "execution_count": 44,
   "metadata": {},
   "outputs": [],
   "source": [
    "def Correlation_matrix(arr):\n",
    "    size = len(arr[0])\n",
    "    corr = np.zeros((size, size))\n",
    "    for i in range(size):\n",
    "        for j in range(size):\n",
    "            corr[i, j] = Correlation_coefficient(arr[i, j], arr[i, i], arr[j, j])\n",
    "    return corr"
   ]
  },
  {
   "attachments": {},
   "cell_type": "markdown",
   "metadata": {},
   "source": [
    "Tạo ma trận hệ số tương quan cho A1 và đối chiếu với hàm thư viện"
   ]
  },
  {
   "cell_type": "code",
   "execution_count": 45,
   "metadata": {},
   "outputs": [],
   "source": [
    "A1_corr = Correlation_matrix(np.cov(A1,rowvar=False, bias=True)) # hàm cài tay\n",
    "corr_A1 = np.corrcoef(A1,rowvar=False) # hàm thư viện"
   ]
  },
  {
   "cell_type": "code",
   "execution_count": 46,
   "metadata": {},
   "outputs": [
    {
     "name": "stdout",
     "output_type": "stream",
     "text": [
      "Ma trận hệ số tương quan của hàm thủ công\n",
      "[[ 1.         -0.36380344]\n",
      " [-0.36380344  1.        ]]\n",
      "Ma trận hệ số tương quan của hàm thư viện\n",
      "[[ 1.         -0.36380344]\n",
      " [-0.36380344  1.        ]]\n"
     ]
    }
   ],
   "source": [
    "print('Ma trận hệ số tương quan của hàm thủ công')\n",
    "print(A1_corr)\n",
    "print('Ma trận hệ số tương quan của hàm thư viện')\n",
    "print(corr_A1)"
   ]
  },
  {
   "attachments": {},
   "cell_type": "markdown",
   "metadata": {},
   "source": [
    "<b> Kết luận: 2 hàm đều cho ra kết quả giống nhau.</b>"
   ]
  },
  {
   "attachments": {},
   "cell_type": "markdown",
   "metadata": {},
   "source": [
    "# Bonus: Handle with NaN"
   ]
  },
  {
   "attachments": {},
   "cell_type": "markdown",
   "metadata": {},
   "source": [
    "Dữ liệu NaN là một giá trị của kiểu dữ liệu số, biểu diễn một giá trị không xác định hoặc không thể biểu diễn.</br>\n",
    "Trong tính toán thông thường khi gặp các kiểu dữ liệu kiểu này thì rất khó để giải quyết và tính toán.</br>\n",
    "Như vậy có 2 cách để giải quyết khi gặp vấn đề này:\n",
    "<ul>\n",
    "  <li>Loại bỏ các giá trị đó bằng cách gán chúng bằng 0, sau đó dùng hàm thủ công đã cài đặt để làm</li>\n",
    "  <li>Áp dụng hàm thư viện có sẵn để tính</li>\n",
    "</ul>\n",
    "Chúng ta lần lượt đi từng bước để kiểm nghiệm đối chứng kết quả giữa 2 cách trên."
   ]
  },
  {
   "attachments": {},
   "cell_type": "markdown",
   "metadata": {},
   "source": [
    "Giả sử ta có tập dữ liệu tồn tại các giá trị NaN như sau:"
   ]
  },
  {
   "cell_type": "code",
   "execution_count": 47,
   "metadata": {},
   "outputs": [],
   "source": [
    "# tương tự A1 và A2, ta khởi tạo A3 và A4\n",
    "A3 = np.array([[14, 96],\n",
    "               [np.nan, 82],\n",
    "               [80, 67],\n",
    "               [77, np.nan],\n",
    "               [99, 87]])\n",
    "\n",
    "A4 = np.array([2, np.nan, 5, 9])"
   ]
  },
  {
   "attachments": {},
   "cell_type": "markdown",
   "metadata": {},
   "source": [
    "<b>Tính toán thủ công lọc các giá trị NaN</b>"
   ]
  },
  {
   "cell_type": "code",
   "execution_count": 48,
   "metadata": {},
   "outputs": [],
   "source": [
    "def remove_nan(arr):\n",
    "    mask = np.isnan(arr)\n",
    "    arr[mask] = 0 # set giá trị = 0 để làm mốc cho NaN\n",
    "    return arr"
   ]
  },
  {
   "cell_type": "code",
   "execution_count": 49,
   "metadata": {},
   "outputs": [],
   "source": [
    "A3_nonNaN = remove_nan(A3)\n",
    "A4_nonNaN = A4[np.isfinite(A4)]"
   ]
  },
  {
   "attachments": {},
   "cell_type": "markdown",
   "metadata": {},
   "source": [
    "Lúc này kết quả sau khi lọc NaN của A3 và A4 là"
   ]
  },
  {
   "cell_type": "code",
   "execution_count": 50,
   "metadata": {},
   "outputs": [
    {
     "name": "stdout",
     "output_type": "stream",
     "text": [
      "[[14. 96.]\n",
      " [ 0. 82.]\n",
      " [80. 67.]\n",
      " [77.  0.]\n",
      " [99. 87.]]\n",
      "[2. 5. 9.]\n"
     ]
    }
   ],
   "source": [
    "print(A3_nonNaN)\n",
    "print(A4_nonNaN)"
   ]
  },
  {
   "attachments": {},
   "cell_type": "markdown",
   "metadata": {},
   "source": [
    "Tách các biến của dữ liệu nhiều biến A3"
   ]
  },
  {
   "cell_type": "code",
   "execution_count": 51,
   "metadata": {},
   "outputs": [],
   "source": [
    "A3_nonNaN_1 = A3_nonNaN[:,0]\n",
    "A3_nonNaN_1 = np.delete(A3_nonNaN_1, np.where(A3_nonNaN_1 == 0)) # xóa đi các giá trị mốc = 0\n",
    "A3_nonNaN_2 = A3_nonNaN[:,1]\n",
    "A3_nonNaN_2 = np.delete(A3_nonNaN_2, np.where(A3_nonNaN_2 == 0)) # xóa đi các giá trị mốc = 0"
   ]
  },
  {
   "attachments": {},
   "cell_type": "markdown",
   "metadata": {},
   "source": [
    "<i> Đơn biến</i>"
   ]
  },
  {
   "cell_type": "code",
   "execution_count": 52,
   "metadata": {},
   "outputs": [
    {
     "name": "stdout",
     "output_type": "stream",
     "text": [
      "Hàm thủ công cho A4\n",
      "mean_A4 =  5.333333333333333\n",
      "median_A4 =  5.0\n",
      "variance_A4 =  8.222222222222221\n",
      "std_A4 =  2.8674417556808756\n"
     ]
    }
   ],
   "source": [
    "print('Hàm thủ công cho A4')\n",
    "print(\"mean_A4 = \", sample_mean(A4_nonNaN))\n",
    "print(\"median_A4 = \", median(A4_nonNaN))\n",
    "print(\"variance_A4 = \", Variance_1D(A4_nonNaN))\n",
    "print(\"std_A4 = \", STD(A4_nonNaN))"
   ]
  },
  {
   "attachments": {},
   "cell_type": "markdown",
   "metadata": {},
   "source": [
    "So sánh với hàm thư viện"
   ]
  },
  {
   "cell_type": "code",
   "execution_count": 53,
   "metadata": {},
   "outputs": [
    {
     "name": "stdout",
     "output_type": "stream",
     "text": [
      "Hàm thư viện cho A4\n",
      "mean_A4 =  5.333333333333333\n",
      "median_A4 =  5.0\n",
      "variance_A4 =  8.222222222222221\n",
      "std_A4 =  2.8674417556808756\n"
     ]
    }
   ],
   "source": [
    "print('Hàm thư viện cho A4')\n",
    "print(\"mean_A4 = \", np.nanmean(A4))\n",
    "print(\"median_A4 = \", np.nanmedian(A4))\n",
    "print(\"variance_A4 = \", np.nanvar(A4))\n",
    "print(\"std_A4 = \", np.nanstd(A4))"
   ]
  },
  {
   "attachments": {},
   "cell_type": "markdown",
   "metadata": {},
   "source": [
    "<i>Nhiều biến</i>"
   ]
  },
  {
   "attachments": {},
   "cell_type": "markdown",
   "metadata": {},
   "source": [
    "<b>Lưu ý: format output là [cal(X1), cal(X2)], với cal là các hàm tính toán thông số của X1 và X2</b>"
   ]
  },
  {
   "cell_type": "code",
   "execution_count": 54,
   "metadata": {},
   "outputs": [
    {
     "name": "stdout",
     "output_type": "stream",
     "text": [
      "Hàm thủ công cho A3\n",
      "mean_A3 =  [67.5, 83.0]\n",
      "median_A3 =  [78.5, 84.5]\n",
      "variance_A3 =  [1025.25, 110.5]\n",
      "std_A3 =  [32.01952529317073, 10.51189802081432]\n"
     ]
    }
   ],
   "source": [
    "print('Hàm thủ công cho A3')\n",
    "print(\"mean_A3 = \", [sample_mean(A3_nonNaN_1), sample_mean(A3_nonNaN_2)])\n",
    "print(\"median_A3 = \", [median(A3_nonNaN_1), median(A3_nonNaN_2)])\n",
    "print(\"variance_A3 = \", [Variance_1D(A3_nonNaN_1), Variance_1D(A3_nonNaN_2)])\n",
    "print(\"std_A3 = \", [STD(A3_nonNaN_1), STD(A3_nonNaN_2)])"
   ]
  },
  {
   "attachments": {},
   "cell_type": "markdown",
   "metadata": {},
   "source": [
    "So sánh với hàm thư viện"
   ]
  },
  {
   "cell_type": "code",
   "execution_count": 55,
   "metadata": {},
   "outputs": [
    {
     "name": "stdout",
     "output_type": "stream",
     "text": [
      "Hàm thư viện cho A3\n",
      "mean_A3 =  [54.  66.4]\n",
      "median_A3 =  [77. 82.]\n",
      "variance_A3 =  [1549.2  1190.64]\n",
      "std_A3 =  [39.35987805 34.50565171]\n"
     ]
    }
   ],
   "source": [
    "print('Hàm thư viện cho A3')\n",
    "print(\"mean_A3 = \", np.nanmean(A3,axis=0))\n",
    "print(\"median_A3 = \", np.nanmedian(A3,axis=0))\n",
    "print(\"variance_A3 = \", np.nanvar(A3,axis=0))\n",
    "print(\"std_A3 = \", np.nanstd(A3,axis=0))"
   ]
  },
  {
   "attachments": {},
   "cell_type": "markdown",
   "metadata": {},
   "source": [
    "<b> Kết luận: sau khi làm thủ công và so sánh với hàm thư viện, ta thấy các hàm thư viện bỏ qua các giá trị NaN và tính toán trên toàn bộ các giá trị thực. Đồng thời 2 hàm đều cho ra kết quả giống nhau.</b>"
   ]
  },
  {
   "attachments": {},
   "cell_type": "markdown",
   "metadata": {},
   "source": [
    "# Các trang tham khảo"
   ]
  },
  {
   "attachments": {},
   "cell_type": "markdown",
   "metadata": {},
   "source": [
    "<ul>\n",
    "  <li>Tài liệu + slide của thầy Lý Quốc Ngọc</li>\n",
    "  <li>Tài liệu của thầy Hùng</li>\n",
    "  <li>https://stackoverflow.com/questions/29438329/removing-nans-from-numpy-2-d-arrays</li>\n",
    "  <li>https://stackoverflow.com/questions/14657433/correlation-matrix-in-python</li>\n",
    "  <li>https://vietnambiz.vn/do-lech-chuan-standard-deviation-la-gi-cong-thuc-tinh-do-lech-chuan-2019110216112891.htm</li>\n",
    "</ul>"
   ]
  }
 ],
 "metadata": {
  "kernelspec": {
   "display_name": "base",
   "language": "python",
   "name": "python3"
  },
  "language_info": {
   "codemirror_mode": {
    "name": "ipython",
    "version": 3
   },
   "file_extension": ".py",
   "mimetype": "text/x-python",
   "name": "python",
   "nbconvert_exporter": "python",
   "pygments_lexer": "ipython3",
   "version": "3.9.15"
  },
  "orig_nbformat": 4
 },
 "nbformat": 4,
 "nbformat_minor": 2
}
